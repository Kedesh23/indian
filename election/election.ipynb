{
 "cells": [
  {
   "cell_type": "code",
   "execution_count": 9,
   "metadata": {},
   "outputs": [
    {
     "data": {
      "text/html": [
       "<div>\n",
       "<style scoped>\n",
       "    .dataframe tbody tr th:only-of-type {\n",
       "        vertical-align: middle;\n",
       "    }\n",
       "\n",
       "    .dataframe tbody tr th {\n",
       "        vertical-align: top;\n",
       "    }\n",
       "\n",
       "    .dataframe thead th {\n",
       "        text-align: right;\n",
       "    }\n",
       "</style>\n",
       "<table border=\"1\" class=\"dataframe\">\n",
       "  <thead>\n",
       "    <tr style=\"text-align: right;\">\n",
       "      <th></th>\n",
       "      <th>st_name</th>\n",
       "      <th>year</th>\n",
       "      <th>pc_no</th>\n",
       "      <th>pc_name</th>\n",
       "      <th>pc_type</th>\n",
       "      <th>cand_name</th>\n",
       "      <th>cand_sex</th>\n",
       "      <th>partyname</th>\n",
       "      <th>partyabbre</th>\n",
       "      <th>totvotpoll</th>\n",
       "      <th>electors</th>\n",
       "    </tr>\n",
       "  </thead>\n",
       "  <tbody>\n",
       "    <tr>\n",
       "      <th>0</th>\n",
       "      <td>Andaman &amp; Nicobar Islands</td>\n",
       "      <td>1977</td>\n",
       "      <td>1</td>\n",
       "      <td>Andaman &amp; Nicobar Islands</td>\n",
       "      <td>GEN</td>\n",
       "      <td>K.R. Ganesh</td>\n",
       "      <td>M</td>\n",
       "      <td>Independents</td>\n",
       "      <td>IND</td>\n",
       "      <td>25168</td>\n",
       "      <td>85308</td>\n",
       "    </tr>\n",
       "    <tr>\n",
       "      <th>1</th>\n",
       "      <td>Andaman &amp; Nicobar Islands</td>\n",
       "      <td>1977</td>\n",
       "      <td>1</td>\n",
       "      <td>Andaman &amp; Nicobar Islands</td>\n",
       "      <td>GEN</td>\n",
       "      <td>Manoranjan Bhakta</td>\n",
       "      <td>M</td>\n",
       "      <td>Indian National Congress</td>\n",
       "      <td>INC</td>\n",
       "      <td>35400</td>\n",
       "      <td>85308</td>\n",
       "    </tr>\n",
       "    <tr>\n",
       "      <th>2</th>\n",
       "      <td>Andaman &amp; Nicobar Islands</td>\n",
       "      <td>1980</td>\n",
       "      <td>1</td>\n",
       "      <td>Andaman &amp; Nicobar Islands</td>\n",
       "      <td>GEN</td>\n",
       "      <td>Ramesh Mazumdar</td>\n",
       "      <td>M</td>\n",
       "      <td>Independents</td>\n",
       "      <td>IND</td>\n",
       "      <td>109</td>\n",
       "      <td>96084</td>\n",
       "    </tr>\n",
       "    <tr>\n",
       "      <th>3</th>\n",
       "      <td>Andaman &amp; Nicobar Islands</td>\n",
       "      <td>1980</td>\n",
       "      <td>1</td>\n",
       "      <td>Andaman &amp; Nicobar Islands</td>\n",
       "      <td>GEN</td>\n",
       "      <td>Alagiri Swamy</td>\n",
       "      <td>M</td>\n",
       "      <td>Independents</td>\n",
       "      <td>IND</td>\n",
       "      <td>125</td>\n",
       "      <td>96084</td>\n",
       "    </tr>\n",
       "    <tr>\n",
       "      <th>4</th>\n",
       "      <td>Andaman &amp; Nicobar Islands</td>\n",
       "      <td>1980</td>\n",
       "      <td>1</td>\n",
       "      <td>Andaman &amp; Nicobar Islands</td>\n",
       "      <td>GEN</td>\n",
       "      <td>Kannu Chemy</td>\n",
       "      <td>M</td>\n",
       "      <td>Independents</td>\n",
       "      <td>IND</td>\n",
       "      <td>405</td>\n",
       "      <td>96084</td>\n",
       "    </tr>\n",
       "  </tbody>\n",
       "</table>\n",
       "</div>"
      ],
      "text/plain": [
       "                     st_name  year  pc_no                    pc_name pc_type  \\\n",
       "0  Andaman & Nicobar Islands  1977      1  Andaman & Nicobar Islands     GEN   \n",
       "1  Andaman & Nicobar Islands  1977      1  Andaman & Nicobar Islands     GEN   \n",
       "2  Andaman & Nicobar Islands  1980      1  Andaman & Nicobar Islands     GEN   \n",
       "3  Andaman & Nicobar Islands  1980      1  Andaman & Nicobar Islands     GEN   \n",
       "4  Andaman & Nicobar Islands  1980      1  Andaman & Nicobar Islands     GEN   \n",
       "\n",
       "           cand_name cand_sex                 partyname partyabbre  \\\n",
       "0        K.R. Ganesh        M              Independents        IND   \n",
       "1  Manoranjan Bhakta        M  Indian National Congress        INC   \n",
       "2    Ramesh Mazumdar        M              Independents        IND   \n",
       "3      Alagiri Swamy        M              Independents        IND   \n",
       "4        Kannu Chemy        M              Independents        IND   \n",
       "\n",
       "   totvotpoll  electors  \n",
       "0       25168     85308  \n",
       "1       35400     85308  \n",
       "2         109     96084  \n",
       "3         125     96084  \n",
       "4         405     96084  "
      ]
     },
     "execution_count": 9,
     "metadata": {},
     "output_type": "execute_result"
    }
   ],
   "source": [
    "import pandas as pd\n",
    "df = pd.read_csv('../indian-national-level-election.csv')\n",
    "df.head()"
   ]
  },
  {
   "cell_type": "code",
   "execution_count": 10,
   "metadata": {},
   "outputs": [
    {
     "name": "stdout",
     "output_type": "stream",
     "text": [
      "<class 'pandas.core.frame.DataFrame'>\n",
      "RangeIndex: 73081 entries, 0 to 73080\n",
      "Data columns (total 11 columns):\n",
      " #   Column      Non-Null Count  Dtype \n",
      "---  ------      --------------  ----- \n",
      " 0   st_name     73081 non-null  object\n",
      " 1   year        73081 non-null  int64 \n",
      " 2   pc_no       73081 non-null  int64 \n",
      " 3   pc_name     73081 non-null  object\n",
      " 4   pc_type     65011 non-null  object\n",
      " 5   cand_name   73081 non-null  object\n",
      " 6   cand_sex    72539 non-null  object\n",
      " 7   partyname   73081 non-null  object\n",
      " 8   partyabbre  73081 non-null  object\n",
      " 9   totvotpoll  73081 non-null  int64 \n",
      " 10  electors    73081 non-null  int64 \n",
      "dtypes: int64(4), object(7)\n",
      "memory usage: 6.1+ MB\n"
     ]
    }
   ],
   "source": [
    "df.shape\n",
    "df.describe()\n",
    "df.info()"
   ]
  },
  {
   "cell_type": "code",
   "execution_count": 11,
   "metadata": {},
   "outputs": [
    {
     "data": {
      "text/plain": [
       "st_name          0\n",
       "year             0\n",
       "pc_no            0\n",
       "pc_name          0\n",
       "pc_type       8070\n",
       "cand_name        0\n",
       "cand_sex       542\n",
       "partyname        0\n",
       "partyabbre       0\n",
       "totvotpoll       0\n",
       "electors         0\n",
       "dtype: int64"
      ]
     },
     "execution_count": 11,
     "metadata": {},
     "output_type": "execute_result"
    }
   ],
   "source": [
    "df.isnull().sum()"
   ]
  },
  {
   "cell_type": "code",
   "execution_count": null,
   "metadata": {},
   "outputs": [],
   "source": []
  }
 ],
 "metadata": {
  "kernelspec": {
   "display_name": "base",
   "language": "python",
   "name": "python3"
  },
  "language_info": {
   "codemirror_mode": {
    "name": "ipython",
    "version": 3
   },
   "file_extension": ".py",
   "mimetype": "text/x-python",
   "name": "python",
   "nbconvert_exporter": "python",
   "pygments_lexer": "ipython3",
   "version": "3.11.5"
  }
 },
 "nbformat": 4,
 "nbformat_minor": 2
}
